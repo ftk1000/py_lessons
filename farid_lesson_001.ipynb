{
 "cells": [
  {
   "cell_type": "code",
   "execution_count": 1,
   "id": "cbb7d675",
   "metadata": {},
   "outputs": [
    {
     "data": {
      "text/plain": [
       "5"
      ]
     },
     "execution_count": 1,
     "metadata": {},
     "output_type": "execute_result"
    }
   ],
   "source": [
    "# farid_lesson_001.ipynb\n",
    "# 2022.01.23\n",
    "#\n",
    "2+3\n"
   ]
  },
  {
   "cell_type": "code",
   "execution_count": 4,
   "id": "8135b9ea",
   "metadata": {},
   "outputs": [
    {
     "name": "stdout",
     "output_type": "stream",
     "text": [
      "6\n"
     ]
    }
   ],
   "source": [
    "a=6; \n",
    "print(a)"
   ]
  },
  {
   "cell_type": "code",
   "execution_count": 38,
   "id": "067ed42c",
   "metadata": {},
   "outputs": [
    {
     "name": "stdout",
     "output_type": "stream",
     "text": [
      "word_list:\n",
      " ['Music', 'is', 'the', 'art', 'of', 'arranging', 'sounds', 'in', 'time', 'through', 'the', 'elements', 'of', 'melody,', 'harmony,', 'rhythm,', 'and', 'timbre.It', 'is', 'one', 'of', 'the', 'universal', 'cultural', 'aspects', 'of', 'all', 'human', 'societies.', 'General', 'definitions', 'of', 'music', 'include', 'common', 'elements', 'such', 'as', 'pitch', '(which', 'governs', 'melody', 'and', 'harmony),', 'rhythm', '(and', 'its', 'associated', 'concepts', 'tempo,', 'meter,', 'and', 'articulation),', 'dynamics', '(loudness', 'and', 'softness),and', 'the', 'sonic', 'qualities', 'of', 'timbre', 'and', 'texture', '(which', 'are', 'sometimes', 'termed', 'the', '\"color\"', 'of', 'a', 'musical', 'sound).Different', 'styles', 'or', 'types', 'of', 'music', 'may', 'emphasize,', 'de-emphasize', 'or', 'omit', 'some', 'of', 'these', 'elements.', 'Music', 'is', 'performed', 'with', 'a', 'vast', 'range', 'of', 'instruments', 'and', 'vocal', 'techniques', 'ranging', 'from', 'singing', 'to', 'rapping;', 'there', 'are', 'solely', 'instrumental', 'pieces,', 'solely', 'vocal', 'pieces', '(such', 'as', 'songs', 'without', 'instrumental', 'accompaniment)', 'and', 'pieces', 'that', 'combine', 'singing', 'and', 'instruments.']\n",
      "hello, your sent has 126 words\n",
      "char_list:\n",
      " ['M', 'u', 's', 'i', 'c', ' ', 'i', 's', ' ', 't', 'h', 'e', ' ', 'a', 'r', 't', ' ', 'o', 'f', ' ', 'a', 'r', 'r', 'a', 'n', 'g', 'i', 'n', 'g', ' ', 's', 'o', 'u', 'n', 'd', 's', ' ', 'i', 'n', ' ', 't', 'i', 'm', 'e', ' ', 't', 'h', 'r', 'o', 'u', 'g', 'h', ' ', 't', 'h', 'e', ' ', 'e', 'l', 'e', 'm', 'e', 'n', 't', 's', ' ', 'o', 'f', ' ', 'm', 'e', 'l', 'o', 'd', 'y', ',', ' ', 'h', 'a', 'r', 'm', 'o', 'n', 'y', ',', ' ', 'r', 'h', 'y', 't', 'h', 'm', ',', ' ', 'a', 'n', 'd', ' ', 't', 'i', 'm', 'b', 'r', 'e', '.', 'I', 't', ' ', 'i', 's', ' ', 'o', 'n', 'e', ' ', 'o', 'f', ' ', 't', 'h', 'e', ' ', 'u', 'n', 'i', 'v', 'e', 'r', 's', 'a', 'l', ' ', 'c', 'u', 'l', 't', 'u', 'r', 'a', 'l', ' ', 'a', 's', 'p', 'e', 'c', 't', 's', ' ', 'o', 'f', ' ', 'a', 'l', 'l', ' ', 'h', 'u', 'm', 'a', 'n', ' ', 's', 'o', 'c', 'i', 'e', 't', 'i', 'e', 's', '.', ' ', 'G', 'e', 'n', 'e', 'r', 'a', 'l', ' ', 'd', 'e', 'f', 'i', 'n', 'i', 't', 'i', 'o', 'n', 's', ' ', 'o', 'f', ' ', 'm', 'u', 's', 'i', 'c', ' ', 'i', 'n', 'c', 'l', 'u', 'd', 'e', ' ', 'c', 'o', 'm', 'm', 'o', 'n', ' ', 'e', 'l', 'e', 'm', 'e', 'n', 't', 's', ' ', 's', 'u', 'c', 'h', ' ', 'a', 's', ' ', 'p', 'i', 't', 'c', 'h', ' ', '(', 'w', 'h', 'i', 'c', 'h', ' ', 'g', 'o', 'v', 'e', 'r', 'n', 's', ' ', 'm', 'e', 'l', 'o', 'd', 'y', ' ', 'a', 'n', 'd', ' ', 'h', 'a', 'r', 'm', 'o', 'n', 'y', ')', ',', ' ', 'r', 'h', 'y', 't', 'h', 'm', ' ', '(', 'a', 'n', 'd', ' ', 'i', 't', 's', ' ', 'a', 's', 's', 'o', 'c', 'i', 'a', 't', 'e', 'd', ' ', 'c', 'o', 'n', 'c', 'e', 'p', 't', 's', ' ', 't', 'e', 'm', 'p', 'o', ',', ' ', 'm', 'e', 't', 'e', 'r', ',', ' ', 'a', 'n', 'd', ' ', 'a', 'r', 't', 'i', 'c', 'u', 'l', 'a', 't', 'i', 'o', 'n', ')', ',', ' ', 'd', 'y', 'n', 'a', 'm', 'i', 'c', 's', ' ', '(', 'l', 'o', 'u', 'd', 'n', 'e', 's', 's', ' ', 'a', 'n', 'd', ' ', 's', 'o', 'f', 't', 'n', 'e', 's', 's', ')', ',', 'a', 'n', 'd', ' ', 't', 'h', 'e', ' ', 's', 'o', 'n', 'i', 'c', ' ', 'q', 'u', 'a', 'l', 'i', 't', 'i', 'e', 's', ' ', 'o', 'f', ' ', 't', 'i', 'm', 'b', 'r', 'e', ' ', 'a', 'n', 'd', ' ', 't', 'e', 'x', 't', 'u', 'r', 'e', ' ', '(', 'w', 'h', 'i', 'c', 'h', ' ', 'a', 'r', 'e', ' ', 's', 'o', 'm', 'e', 't', 'i', 'm', 'e', 's', ' ', 't', 'e', 'r', 'm', 'e', 'd', ' ', 't', 'h', 'e', ' ', '\"', 'c', 'o', 'l', 'o', 'r', '\"', ' ', 'o', 'f', ' ', 'a', ' ', 'm', 'u', 's', 'i', 'c', 'a', 'l', ' ', 's', 'o', 'u', 'n', 'd', ')', '.', 'D', 'i', 'f', 'f', 'e', 'r', 'e', 'n', 't', ' ', 's', 't', 'y', 'l', 'e', 's', ' ', 'o', 'r', ' ', 't', 'y', 'p', 'e', 's', ' ', 'o', 'f', ' ', 'm', 'u', 's', 'i', 'c', ' ', 'm', 'a', 'y', ' ', 'e', 'm', 'p', 'h', 'a', 's', 'i', 'z', 'e', ',', ' ', 'd', 'e', '-', 'e', 'm', 'p', 'h', 'a', 's', 'i', 'z', 'e', ' ', 'o', 'r', ' ', 'o', 'm', 'i', 't', ' ', 's', 'o', 'm', 'e', ' ', 'o', 'f', ' ', 't', 'h', 'e', 's', 'e', ' ', 'e', 'l', 'e', 'm', 'e', 'n', 't', 's', '.', ' ', 'M', 'u', 's', 'i', 'c', ' ', 'i', 's', ' ', 'p', 'e', 'r', 'f', 'o', 'r', 'm', 'e', 'd', ' ', 'w', 'i', 't', 'h', ' ', 'a', ' ', 'v', 'a', 's', 't', ' ', 'r', 'a', 'n', 'g', 'e', ' ', 'o', 'f', ' ', 'i', 'n', 's', 't', 'r', 'u', 'm', 'e', 'n', 't', 's', ' ', 'a', 'n', 'd', ' ', 'v', 'o', 'c', 'a', 'l', ' ', 't', 'e', 'c', 'h', 'n', 'i', 'q', 'u', 'e', 's', ' ', 'r', 'a', 'n', 'g', 'i', 'n', 'g', ' ', 'f', 'r', 'o', 'm', ' ', 's', 'i', 'n', 'g', 'i', 'n', 'g', ' ', 't', 'o', ' ', 'r', 'a', 'p', 'p', 'i', 'n', 'g', ';', ' ', 't', 'h', 'e', 'r', 'e', ' ', 'a', 'r', 'e', ' ', 's', 'o', 'l', 'e', 'l', 'y', ' ', 'i', 'n', 's', 't', 'r', 'u', 'm', 'e', 'n', 't', 'a', 'l', ' ', 'p', 'i', 'e', 'c', 'e', 's', ',', ' ', 's', 'o', 'l', 'e', 'l', 'y', ' ', 'v', 'o', 'c', 'a', 'l', ' ', 'p', 'i', 'e', 'c', 'e', 's', ' ', '(', 's', 'u', 'c', 'h', ' ', 'a', 's', ' ', 's', 'o', 'n', 'g', 's', ' ', 'w', 'i', 't', 'h', 'o', 'u', 't', ' ', 'i', 'n', 's', 't', 'r', 'u', 'm', 'e', 'n', 't', 'a', 'l', ' ', 'a', 'c', 'c', 'o', 'm', 'p', 'a', 'n', 'i', 'm', 'e', 'n', 't', ')', ' ', 'a', 'n', 'd', ' ', 'p', 'i', 'e', 'c', 'e', 's', ' ', 't', 'h', 'a', 't', ' ', 'c', 'o', 'm', 'b', 'i', 'n', 'e', ' ', 's', 'i', 'n', 'g', 'i', 'n', 'g', ' ', 'a', 'n', 'd', ' ', 'i', 'n', 's', 't', 'r', 'u', 'm', 'e', 'n', 't', 's', '.']\n"
     ]
    }
   ],
   "source": [
    "# s = 'i love my wife'\n",
    "s = 'Music is the art \\\n",
    "of arranging sounds in time through the elements of melody, harmony, rhythm, and timbre.\\\n",
    "It is one of the universal cultural aspects of all human societies. General definitions \\\n",
    "of music include common elements such as pitch (which governs melody and harmony), rhythm \\\n",
    "(and its associated concepts tempo, meter, and articulation), dynamics (loudness and softness),\\\n",
    "and the sonic qualities of timbre and texture (which are sometimes termed the \"color\" of a musical sound).\\\n",
    "Different styles or types of music may emphasize, de-emphasize or omit some of these elements. \\\n",
    "Music is performed with a vast range of instruments and vocal techniques ranging from singing \\\n",
    "to rapping; there are solely instrumental pieces, solely vocal pieces (such as songs without \\\n",
    "instrumental accompaniment) and pieces that combine singing and instruments.'\n",
    "\n",
    "word_list = s.split(' ')\n",
    "print('word_list:\\n', word_list)\n",
    "N=len(slst)\n",
    "print(f'hello, your sent has {N} words')\n",
    "\n",
    "char_list = list(s)\n",
    "print('char_list:\\n' , char_list)"
   ]
  },
  {
   "cell_type": "code",
   "execution_count": 9,
   "id": "647dfda6",
   "metadata": {},
   "outputs": [],
   "source": [
    "# s='Music is the art of arranging sounds in time through the elements of melody, harmony, rhythm, and timbre.[1][2] It is one of the universal cultural aspects of all human societies. General definitions of music include common elements such as pitch (which governs melody and harmony), rhythm (and its associated concepts tempo, meter, and articulation), dynamics (loudness and softness), and the sonic qualities of timbre and texture (which are sometimes termed the \"color\" of a musical sound). Different styles or types of music may emphasize, de-emphasize or omit some of these elements. Music is performed with a vast range of instruments and vocal techniques ranging from singing to rapping; there are solely instrumental pieces, solely vocal pieces (such as songs without instrumental accompaniment) and pieces that combine singing and instruments.'"
   ]
  },
  {
   "cell_type": "code",
   "execution_count": 16,
   "id": "aefbdcd5",
   "metadata": {},
   "outputs": [
    {
     "data": {
      "text/plain": [
       "'o'"
      ]
     },
     "execution_count": 16,
     "metadata": {},
     "output_type": "execute_result"
    }
   ],
   "source": [
    "s = 'i love my wife'\n",
    "s[3]"
   ]
  },
  {
   "cell_type": "code",
   "execution_count": 18,
   "id": "d7935b11",
   "metadata": {},
   "outputs": [
    {
     "data": {
      "text/plain": [
       "'ele'"
      ]
     },
     "execution_count": 18,
     "metadata": {},
     "output_type": "execute_result"
    }
   ],
   "source": [
    "s='electricity'\n",
    "s[:3]"
   ]
  },
  {
   "cell_type": "code",
   "execution_count": 20,
   "id": "9d29b58a",
   "metadata": {},
   "outputs": [
    {
     "data": {
      "text/plain": [
       "'ity'"
      ]
     },
     "execution_count": 20,
     "metadata": {},
     "output_type": "execute_result"
    }
   ],
   "source": [
    "s[-3:]"
   ]
  },
  {
   "cell_type": "code",
   "execution_count": 21,
   "id": "4844c517",
   "metadata": {},
   "outputs": [
    {
     "data": {
      "text/plain": [
       "'ctri'"
      ]
     },
     "execution_count": 21,
     "metadata": {},
     "output_type": "execute_result"
    }
   ],
   "source": [
    "s[3:7]"
   ]
  },
  {
   "cell_type": "code",
   "execution_count": 45,
   "id": "bd7ea29f",
   "metadata": {},
   "outputs": [
    {
     "data": {
      "text/plain": [
       "4"
      ]
     },
     "execution_count": 45,
     "metadata": {},
     "output_type": "execute_result"
    }
   ],
   "source": [
    "s='abcd'\n",
    "len(s)"
   ]
  },
  {
   "cell_type": "code",
   "execution_count": 46,
   "id": "ff09fa95",
   "metadata": {},
   "outputs": [],
   "source": [
    "# for i in range(len(s)):\n",
    "#     print(i)"
   ]
  },
  {
   "cell_type": "code",
   "execution_count": 51,
   "id": "69bf6d7c",
   "metadata": {},
   "outputs": [
    {
     "name": "stdout",
     "output_type": "stream",
     "text": [
      "original string is:  abcd\n",
      "Rita list s_lst :  ['a', 'b', 'c', 'd']\n",
      "s2_lst =  ['d', 'c', 'b', 'a']\n",
      "new string is:  dcba\n"
     ]
    }
   ],
   "source": [
    "print('original string is: ', s)\n",
    "s_lst = list(s)\n",
    "print('Rita list s_lst : ', s_lst)\n",
    "\n",
    "# first we copy the original list/string\n",
    "s2_lst = s_lst.copy()\n",
    "\n",
    "# now we replace list elements\n",
    "s2_lst[0] = s_lst[3]\n",
    "s2_lst[1] = s_lst[2]\n",
    "s2_lst[2] = s_lst[1]\n",
    "s2_lst[3] = s_lst[0]\n",
    "\n",
    "print(\"s2_lst = \", s2_lst)\n",
    "\n",
    "s2 = ''.join(s2_lst)\n",
    "print('new string is: ', s2)"
   ]
  },
  {
   "cell_type": "markdown",
   "id": "7bbce348",
   "metadata": {},
   "source": [
    "# Defining functions"
   ]
  },
  {
   "cell_type": "code",
   "execution_count": null,
   "id": "c7f280ab",
   "metadata": {},
   "outputs": [],
   "source": [
    "def rev_string(s):\n",
    "    "
   ]
  },
  {
   "cell_type": "code",
   "execution_count": 24,
   "id": "5d322b28",
   "metadata": {},
   "outputs": [
    {
     "data": {
      "text/plain": [
       "'abcd'"
      ]
     },
     "execution_count": 24,
     "metadata": {},
     "output_type": "execute_result"
    }
   ],
   "source": [
    "# s='abcd'\n",
    "# s2 = s\n",
    "# for i in range(len(s)):\n",
    "#     s2[i] = s[len(s)-i]"
   ]
  },
  {
   "cell_type": "code",
   "execution_count": null,
   "id": "f27c7f6c",
   "metadata": {},
   "outputs": [],
   "source": []
  }
 ],
 "metadata": {
  "kernelspec": {
   "display_name": "Python 3 (ipykernel)",
   "language": "python",
   "name": "python3"
  },
  "language_info": {
   "codemirror_mode": {
    "name": "ipython",
    "version": 3
   },
   "file_extension": ".py",
   "mimetype": "text/x-python",
   "name": "python",
   "nbconvert_exporter": "python",
   "pygments_lexer": "ipython3",
   "version": "3.9.7"
  }
 },
 "nbformat": 4,
 "nbformat_minor": 5
}
