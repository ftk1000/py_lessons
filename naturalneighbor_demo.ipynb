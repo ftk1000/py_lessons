{
  "nbformat": 4,
  "nbformat_minor": 0,
  "metadata": {
    "colab": {
      "name": "naturalneighbor_demo.ipynb",
      "provenance": [],
      "authorship_tag": "ABX9TyNBn+ssvgfOMC4T7kPolwsj",
      "include_colab_link": true
    },
    "kernelspec": {
      "name": "python3",
      "display_name": "Python 3"
    },
    "language_info": {
      "name": "python"
    }
  },
  "cells": [
    {
      "cell_type": "markdown",
      "metadata": {
        "id": "view-in-github",
        "colab_type": "text"
      },
      "source": [
        "<a href=\"https://colab.research.google.com/github/ftk1000/py_lessons/blob/main/naturalneighbor_demo.ipynb\" target=\"_parent\"><img src=\"https://colab.research.google.com/assets/colab-badge.svg\" alt=\"Open In Colab\"/></a>"
      ]
    },
    {
      "cell_type": "code",
      "execution_count": null,
      "metadata": {
        "id": "Dof3V87ctsVu"
      },
      "outputs": [],
      "source": [
        "# naturalneighbor_demo.ipynb\n",
        "# 2022.06.06\n",
        "\n",
        "\n",
        "# https://pypi.org/project/naturalneighbor/\n",
        "# pip install naturalneighbor\n"
      ]
    },
    {
      "cell_type": "code",
      "source": [
        "import scipy.interpolate\n",
        "import numpy as np\n",
        "\n",
        "import naturalneighbor\n",
        "\n",
        "num_points = 10\n",
        "num_dimensions = 3\n",
        "points = np.random.rand(num_points, num_dimensions)\n",
        "values = np.random.rand(num_points)\n",
        "\n",
        "grids = tuple(np.mgrid[0:100:1, 0:50:100j, 0:100:2])\n",
        "scipy_interpolated_values = scipy.interpolate.griddata(points, values, grids)\n",
        "\n",
        "grid_ranges = [[0, 100, 1], [0, 50, 100j], [0, 100, 2]]\n",
        "# nn_interpolated_values = naturalneighbor.griddata(points, values, grid_ranges)"
      ],
      "metadata": {
        "id": "fY_G0b53t4lh"
      },
      "execution_count": 34,
      "outputs": []
    },
    {
      "cell_type": "code",
      "source": [
        "nn_interpolated_values"
      ],
      "metadata": {
        "colab": {
          "base_uri": "https://localhost:8080/"
        },
        "id": "SaHERN1fuBU2",
        "outputId": "5b50529e-5578-4217-992b-70d002f2eb80"
      },
      "execution_count": 35,
      "outputs": [
        {
          "output_type": "execute_result",
          "data": {
            "text/plain": [
              "array([[[0.21082967, 0.17934207, 0.14742569, ..., 0.31863471,\n",
              "         0.31655144, 0.31403269],\n",
              "        [0.91410092, 0.17601119, 0.2147989 , ..., 0.3292606 ,\n",
              "         0.3268811 , 0.32451059],\n",
              "        [0.43098206, 0.36585289, 0.38142517, ..., 0.33929471,\n",
              "         0.3365162 , 0.33419744],\n",
              "        ...,\n",
              "        [0.58654465, 0.58640442, 0.58570188, ..., 0.55405176,\n",
              "         0.55356472, 0.5529329 ],\n",
              "        [0.58741866, 0.58555421, 0.58479352, ..., 0.55471329,\n",
              "         0.55420012, 0.55350516],\n",
              "        [0.58702558, 0.58694397, 0.58625869, ..., 0.55528048,\n",
              "         0.55474265, 0.55404746]],\n",
              "\n",
              "       [[0.20748456, 0.14382179, 0.15514849, ..., 0.32824676,\n",
              "         0.32551694, 0.323126  ],\n",
              "        [0.63850145, 0.29147355, 0.41420951, ..., 0.33761654,\n",
              "         0.33720665, 0.33215311],\n",
              "        [0.54596729, 0.48886423, 0.48877429, ..., 0.34906495,\n",
              "         0.34444321, 0.34350492],\n",
              "        ...,\n",
              "        [0.58694901, 0.58522282, 0.58565169, ..., 0.5547027 ,\n",
              "         0.55361672, 0.55284282],\n",
              "        [0.58714067, 0.58694901, 0.58540914, ..., 0.55500689,\n",
              "         0.55402332, 0.55328622],\n",
              "        [0.58744164, 0.58576102, 0.58619092, ..., 0.55556509,\n",
              "         0.55466847, 0.554592  ]],\n",
              "\n",
              "       [[0.44130221, 0.41676011, 0.45573722, ..., 0.33787944,\n",
              "         0.33520628, 0.3321368 ],\n",
              "        [0.53766327, 0.50284985, 0.49622843, ..., 0.34841711,\n",
              "         0.34495942, 0.34248983],\n",
              "        [0.49598031, 0.48852655, 0.48853718, ..., 0.35764448,\n",
              "         0.35453185, 0.35143105],\n",
              "        ...,\n",
              "        [0.58743027, 0.58655672, 0.58553185, ..., 0.55454004,\n",
              "         0.55394272, 0.55339532],\n",
              "        [0.58773739, 0.58684909, 0.58645661, ..., 0.55521596,\n",
              "         0.5546532 , 0.5541359 ],\n",
              "        [0.58800977, 0.58716866, 0.58613411, ..., 0.55592592,\n",
              "         0.55536343, 0.55488467]],\n",
              "\n",
              "       ...,\n",
              "\n",
              "       [[0.59269045, 0.59098218, 0.58897442, ..., 0.56052558,\n",
              "         0.56030301, 0.55990284],\n",
              "        [0.59154812, 0.58832575, 0.5883112 , ..., 0.56019284,\n",
              "         0.55987417, 0.55917772],\n",
              "        [0.58964931, 0.58853975, 0.58778573, ..., 0.559667  ,\n",
              "         0.5592934 , 0.55895256],\n",
              "        ...,\n",
              "        [0.61118064, 0.60836194, 0.60829815, ..., 0.58389085,\n",
              "         0.58380852, 0.58360849],\n",
              "        [0.61206573, 0.61110025, 0.61055638, ..., 0.58520213,\n",
              "         0.58494486, 0.58517121],\n",
              "        [0.61486111, 0.61265787, 0.61156231, ..., 0.5864781 ,\n",
              "         0.58648535, 0.58625771]],\n",
              "\n",
              "       [[0.59340255, 0.59201557, 0.59151673, ..., 0.56167949,\n",
              "         0.56145008, 0.56106612],\n",
              "        [0.59222731, 0.59165381, 0.58991531, ..., 0.5612444 ,\n",
              "         0.56088731, 0.56029624],\n",
              "        [0.59153819, 0.5898857 , 0.5881196 , ..., 0.56088831,\n",
              "         0.56035719, 0.56010031],\n",
              "        ...,\n",
              "        [0.6125652 , 0.61070759, 0.60906027, ..., 0.58511559,\n",
              "         0.58504464, 0.58497408],\n",
              "        [0.61453547, 0.61167301, 0.61161269, ..., 0.58637754,\n",
              "         0.58629075, 0.58613878],\n",
              "        [0.61536614, 0.61447751, 0.61396101, ..., 0.58782275,\n",
              "         0.58761175, 0.58787238]],\n",
              "\n",
              "       [[0.5957263 , 0.59397121, 0.59191349, ..., 0.56293227,\n",
              "         0.5626981 , 0.56235544],\n",
              "        [0.59458169, 0.59127199, 0.59128433, ..., 0.56246237,\n",
              "         0.56207275, 0.56178411],\n",
              "        [0.59267438, 0.5915475 , 0.5908477 , ..., 0.56202207,\n",
              "         0.56158912, 0.56154162],\n",
              "        ...,\n",
              "        [0.6139513 , 0.61239114, 0.6110649 , ..., 0.58643323,\n",
              "         0.58639914, 0.58640533],\n",
              "        [0.61595687, 0.61407324, 0.61238613, ..., 0.58772867,\n",
              "         0.58767011, 0.58769214],\n",
              "        [0.61790899, 0.61507084, 0.61500231, ..., 0.58901745,\n",
              "         0.58897347, 0.58899812]]])"
            ]
          },
          "metadata": {},
          "execution_count": 35
        }
      ]
    },
    {
      "cell_type": "code",
      "source": [
        "print(type(nn_interpolated_values))\n",
        "nn_interpolated_values.shape"
      ],
      "metadata": {
        "colab": {
          "base_uri": "https://localhost:8080/"
        },
        "id": "xD3Wanh41vLe",
        "outputId": "88c006fc-52d3-4f20-a3de-1df29fa2ed7d"
      },
      "execution_count": 36,
      "outputs": [
        {
          "output_type": "stream",
          "name": "stdout",
          "text": [
            "<class 'numpy.ndarray'>\n"
          ]
        },
        {
          "output_type": "execute_result",
          "data": {
            "text/plain": [
              "(100, 100, 50)"
            ]
          },
          "metadata": {},
          "execution_count": 36
        }
      ]
    },
    {
      "cell_type": "code",
      "source": [
        "nn_interpolated_values[1].shape"
      ],
      "metadata": {
        "colab": {
          "base_uri": "https://localhost:8080/"
        },
        "id": "3wSASzY52QTg",
        "outputId": "56175477-1c52-4f99-efc3-8e64059668e2"
      },
      "execution_count": 37,
      "outputs": [
        {
          "output_type": "execute_result",
          "data": {
            "text/plain": [
              "(100, 50)"
            ]
          },
          "metadata": {},
          "execution_count": 37
        }
      ]
    },
    {
      "cell_type": "code",
      "source": [
        ""
      ],
      "metadata": {
        "id": "yX9-Bc-a2xOh"
      },
      "execution_count": 37,
      "outputs": []
    },
    {
      "cell_type": "code",
      "source": [
        ""
      ],
      "metadata": {
        "id": "G41JtcFF3wfq"
      },
      "execution_count": 37,
      "outputs": []
    },
    {
      "cell_type": "markdown",
      "source": [
        "# Voronoi\n",
        "\n",
        "https://docs.scipy.org/doc/scipy/reference/generated/scipy.spatial.voronoi_plot_2d.html"
      ],
      "metadata": {
        "id": "Sk2ktM_p3ymO"
      }
    },
    {
      "cell_type": "code",
      "source": [
        "import matplotlib.pyplot as plt\n",
        "rng = np.random.default_rng()\n",
        "points = rng.random((10,2))\n",
        "points.shape"
      ],
      "metadata": {
        "colab": {
          "base_uri": "https://localhost:8080/"
        },
        "id": "y0dCLSSZ3woQ",
        "outputId": "60a5587d-996b-45e8-b90a-68d6eca51bf3"
      },
      "execution_count": 38,
      "outputs": [
        {
          "output_type": "execute_result",
          "data": {
            "text/plain": [
              "(10, 2)"
            ]
          },
          "metadata": {},
          "execution_count": 38
        }
      ]
    },
    {
      "cell_type": "code",
      "source": [
        "N=10\n",
        "x = rng.random(N)\n",
        "y = rng.random(N) + 5\n",
        "plt.scatter(x, y, s=600, marker='.', c='red')"
      ],
      "metadata": {
        "colab": {
          "base_uri": "https://localhost:8080/",
          "height": 282
        },
        "id": "vX640TX04uJA",
        "outputId": "23507614-cbfc-4526-8344-4f1476202432"
      },
      "execution_count": 39,
      "outputs": [
        {
          "output_type": "execute_result",
          "data": {
            "text/plain": [
              "<matplotlib.collections.PathCollection at 0x7f14eeec9850>"
            ]
          },
          "metadata": {},
          "execution_count": 39
        },
        {
          "output_type": "display_data",
          "data": {
            "text/plain": [
              "<Figure size 432x288 with 1 Axes>"
            ],
            "image/png": "[encoded data removed]"
          },
          "metadata": {
            "needs_background": "light"
          }
        }
      ]
    },
    {
      "cell_type": "code",
      "source": [
        "points = np.array([x,y]).T\n",
        "# points\n",
        "# points.reshape(10,2)\n",
        "\n",
        "# Voronoi diagram of the points:\n",
        "from scipy.spatial import Voronoi, voronoi_plot_2d\n",
        "vor = Voronoi(points)\n",
        "# vor\n",
        "# using voronoi_plot_2d for visualisation:\n",
        "fig = voronoi_plot_2d(vor, point_size=30)\n",
        "plt.show()"
      ],
      "metadata": {
        "colab": {
          "base_uri": "https://localhost:8080/",
          "height": 265
        },
        "id": "2Chc-EaB5cmT",
        "outputId": "cc60c99f-f4a5-4a68-a7c7-73efdc6655ad"
      },
      "execution_count": 40,
      "outputs": [
        {
          "output_type": "display_data",
          "data": {
            "text/plain": [
              "<Figure size 432x288 with 1 Axes>"
            ],
            "image/png": "[encoded data removed]"
          },
          "metadata": {
            "needs_background": "light"
          }
        }
      ]
    },
    {
      "cell_type": "code",
      "source": [
        "# using voronoi_plot_2d for visualisation with enhancements:\n",
        "fig = voronoi_plot_2d(vor, show_vertices=False, line_colors='orange',\n",
        "                line_width=2, line_alpha=0.6, point_size=30, show_points=True)\n",
        "plt.show()"
      ],
      "metadata": {
        "colab": {
          "base_uri": "https://localhost:8080/",
          "height": 265
        },
        "id": "OsP58dkm3wwa",
        "outputId": "2788f679-154b-4502-9bc5-7e297f2ef1f1"
      },
      "execution_count": 41,
      "outputs": [
        {
          "output_type": "display_data",
          "data": {
            "text/plain": [
              "<Figure size 432x288 with 1 Axes>"
            ],
            "image/png": "[encoded data removed]"
          },
          "metadata": {
            "needs_background": "light"
          }
        }
      ]
    },
    {
      "cell_type": "code",
      "source": [
        ""
      ],
      "metadata": {
        "id": "sCz551Dx3w2b"
      },
      "execution_count": null,
      "outputs": []
    },
    {
      "cell_type": "code",
      "source": [
        ""
      ],
      "metadata": {
        "id": "dx_IIGoM3w8K"
      },
      "execution_count": null,
      "outputs": []
    },
    {
      "cell_type": "code",
      "source": [
        ""
      ],
      "metadata": {
        "id": "gHRq5g0O3xBl"
      },
      "execution_count": null,
      "outputs": []
    },
    {
      "cell_type": "code",
      "source": [
        ""
      ],
      "metadata": {
        "id": "OAQToLfJ3xHb"
      },
      "execution_count": null,
      "outputs": []
    },
    {
      "cell_type": "code",
      "source": [
        ""
      ],
      "metadata": {
        "id": "iEipscX03xMS"
      },
      "execution_count": null,
      "outputs": []
    }
  ]
}